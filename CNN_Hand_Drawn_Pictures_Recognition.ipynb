{
  "nbformat": 4,
  "nbformat_minor": 0,
  "metadata": {
    "colab": {
      "provenance": [],
      "collapsed_sections": [
        "DUdMXeAkixhs",
        "2PAcJUlajBuW",
        "DxSer0MqmJ1Q",
        "cfjzYwKRnKog",
        "jE9EQrIxvl8U",
        "xArk2qRSARm1"
      ],
      "authorship_tag": "ABX9TyNI5sRJD02H9L/i96/cTB8c",
      "include_colab_link": true
    },
    "kernelspec": {
      "name": "python3",
      "display_name": "Python 3"
    },
    "language_info": {
      "name": "python"
    }
  },
  "cells": [
    {
      "cell_type": "markdown",
      "metadata": {
        "id": "view-in-github",
        "colab_type": "text"
      },
      "source": [
        "<a href=\"https://colab.research.google.com/github/huynqcharles/Hand-Drawn-Pictures-Recognition/blob/main/CNN_Hand_Drawn_Pictures_Recognition.ipynb\" target=\"_parent\"><img src=\"https://colab.research.google.com/assets/colab-badge.svg\" alt=\"Open In Colab\"/></a>"
      ]
    },
    {
      "cell_type": "markdown",
      "source": [
        "# DEPENDENCIES"
      ],
      "metadata": {
        "id": "DUdMXeAkixhs"
      }
    },
    {
      "cell_type": "code",
      "source": [
        "import tensorflow as tf\n",
        "import numpy as np\n",
        "import cv2 as cv\n",
        "import gc\n",
        "import matplotlib.pyplot as plt\n",
        "\n",
        "import keras\n",
        "from keras.utils import to_categorical\n",
        "from tensorflow.keras.models import Sequential, load_model\n",
        "from tensorflow.keras.layers import Conv2D, MaxPooling2D, Dense, Flatten, Dropout\n",
        "\n",
        "from sklearn.model_selection import train_test_split"
      ],
      "metadata": {
        "id": "eXuYSOJsi6EG"
      },
      "execution_count": null,
      "outputs": []
    },
    {
      "cell_type": "markdown",
      "source": [
        "# PRE-PROCESSING DATA"
      ],
      "metadata": {
        "id": "2PAcJUlajBuW"
      }
    },
    {
      "cell_type": "code",
      "source": [
        "from google.colab import drive\n",
        "drive.mount('/content/drive')"
      ],
      "metadata": {
        "colab": {
          "base_uri": "https://localhost:8080/"
        },
        "id": "nNfELsASyyQL",
        "outputId": "24a5b46e-4850-41f2-e572-ecbaa925bb41"
      },
      "execution_count": null,
      "outputs": [
        {
          "output_type": "stream",
          "name": "stdout",
          "text": [
            "Mounted at /content/drive\n"
          ]
        }
      ]
    },
    {
      "cell_type": "code",
      "source": [
        "donut = np.load('/content/drive/MyDrive/Hand Drawn Pictures/QuickDraw Dataset numpy files/full_numpy_bitmap_donut.npy')\n",
        "hamburger = np.load('/content/drive/MyDrive/Hand Drawn Pictures/QuickDraw Dataset numpy files/full_numpy_bitmap_hamburger.npy')\n",
        "pizza = np.load('/content/drive/MyDrive/Hand Drawn Pictures/QuickDraw Dataset numpy files/full_numpy_bitmap_pizza.npy')\n",
        "ice_cream = np.load('/content/drive/MyDrive/Hand Drawn Pictures/QuickDraw Dataset numpy files/full_numpy_bitmap_ice cream.npy')"
      ],
      "metadata": {
        "id": "Qt2vbr_kjEsx"
      },
      "execution_count": null,
      "outputs": []
    },
    {
      "cell_type": "code",
      "source": [
        "# add a column with labels\n",
        "donut = np.c_[donut, np.zeros(len(donut))]\n",
        "hamburger = np.c_[hamburger, np.ones(len(hamburger))]\n",
        "pizza = np.c_[pizza, 2*np.ones(len(pizza))]\n",
        "ice_cream = np.c_[ice_cream, 3*np.ones(len(ice_cream))]"
      ],
      "metadata": {
        "id": "TUZmdKVh8hTk"
      },
      "execution_count": null,
      "outputs": []
    },
    {
      "cell_type": "code",
      "source": [
        "# store the label codes in a dictionary\n",
        "label_dict = {0:'donut', 1:'hamburger', 2:'pizza', 3:'ice cream'}"
      ],
      "metadata": {
        "id": "0caejEiw8sF1"
      },
      "execution_count": null,
      "outputs": []
    },
    {
      "cell_type": "code",
      "source": [
        "print(donut.shape)\n",
        "print(hamburger.shape)\n",
        "print(pizza.shape)\n",
        "print(ice_cream.shape)"
      ],
      "metadata": {
        "colab": {
          "base_uri": "https://localhost:8080/"
        },
        "id": "Gk_1WvlI8y9A",
        "outputId": "3e64190c-e1d0-433e-f507-90d2a9cb2a22"
      },
      "execution_count": null,
      "outputs": [
        {
          "output_type": "stream",
          "name": "stdout",
          "text": [
            "(140751, 785)\n",
            "(129672, 785)\n",
            "(130371, 785)\n",
            "(123133, 785)\n"
          ]
        }
      ]
    },
    {
      "cell_type": "code",
      "source": [
        "X = np.concatenate((donut[:,:-1], hamburger[:,:-1], pizza[:,:-1], ice_cream[:,:-1]), axis=0).astype('float32')\n",
        "y = np.concatenate((donut[:,-1], hamburger[:,-1], pizza[:,-1], ice_cream[:,-1]), axis=0).astype('float32')\n",
        "\n",
        "#X_train, X_test, y_train, y_test = train_test_split(X/255.,y,test_size=0.2,random_state=0)\n",
        "\n",
        "X_train_val, X_test, y_train_val, y_test = train_test_split(X, y, test_size=0.2, random_state=0)\n",
        "\n",
        "X_train, X_val, y_train, y_val = train_test_split(X_train_val, y_train_val, test_size=0.2, random_state=0)"
      ],
      "metadata": {
        "id": "xizNaVNz87FY"
      },
      "execution_count": null,
      "outputs": []
    },
    {
      "cell_type": "code",
      "source": [
        "del X_train_val, y_train_val"
      ],
      "metadata": {
        "id": "3iSer2tAKtZh"
      },
      "execution_count": null,
      "outputs": []
    },
    {
      "cell_type": "code",
      "source": [
        "del X, y"
      ],
      "metadata": {
        "id": "xouCjALUClDk"
      },
      "execution_count": null,
      "outputs": []
    },
    {
      "cell_type": "code",
      "source": [
        "# one hot encode outputs\n",
        "y_train_cnn = to_categorical(y_train)\n",
        "y_val_cnn = to_categorical(y_val)\n",
        "y_test_cnn = to_categorical(y_test)\n",
        "num_classes = y_test_cnn.shape[1]"
      ],
      "metadata": {
        "id": "imRtSwcR_Fma"
      },
      "execution_count": null,
      "outputs": []
    },
    {
      "cell_type": "code",
      "source": [
        "image_width = 28\n",
        "image_height = 28"
      ],
      "metadata": {
        "id": "hDTzRBrTAI7S"
      },
      "execution_count": null,
      "outputs": []
    },
    {
      "cell_type": "code",
      "source": [
        "X_train_cnn = X_train.reshape(X_train.shape[0], image_width, image_height, 1).astype('float32')\n",
        "X_val_cnn = X_val.reshape(X_val.shape[0], image_width, image_height, 1).astype('float32')\n",
        "X_test_cnn = X_test.reshape(X_test.shape[0], image_width, image_height, 1).astype('float32')"
      ],
      "metadata": {
        "id": "7EmMUJsO_YVg"
      },
      "execution_count": null,
      "outputs": []
    },
    {
      "cell_type": "code",
      "source": [
        "del X_train, X_val, X_test, y_train, y_val, y_test"
      ],
      "metadata": {
        "id": "DWcO9EAcCuYh"
      },
      "execution_count": null,
      "outputs": []
    },
    {
      "cell_type": "code",
      "source": [
        "X_train_cnn.shape"
      ],
      "metadata": {
        "colab": {
          "base_uri": "https://localhost:8080/"
        },
        "id": "aQrBgRElIwxX",
        "outputId": "00578d44-3224-40f1-d70b-43225526c01f"
      },
      "execution_count": null,
      "outputs": [
        {
          "output_type": "execute_result",
          "data": {
            "text/plain": [
              "(335312, 28, 28, 1)"
            ]
          },
          "metadata": {},
          "execution_count": 14
        }
      ]
    },
    {
      "cell_type": "code",
      "source": [
        "num_classes"
      ],
      "metadata": {
        "colab": {
          "base_uri": "https://localhost:8080/"
        },
        "id": "PwuliA95gZAE",
        "outputId": "34a7c2ad-b046-49cd-b07f-8ee8ebc8a052"
      },
      "execution_count": null,
      "outputs": [
        {
          "output_type": "execute_result",
          "data": {
            "text/plain": [
              "4"
            ]
          },
          "metadata": {},
          "execution_count": 15
        }
      ]
    },
    {
      "cell_type": "markdown",
      "source": [
        "# MODEL IMPLEMENTATION"
      ],
      "metadata": {
        "id": "DxSer0MqmJ1Q"
      }
    },
    {
      "cell_type": "code",
      "source": [
        "#LeNet\n",
        "model = Sequential([\n",
        "    Conv2D(6, kernel_size=(5, 5), activation='relu', input_shape=(image_width,image_height, 1)),\n",
        "    MaxPooling2D(pool_size=(2, 2)),\n",
        "    Conv2D(16, kernel_size=(5, 5), activation='relu'),\n",
        "    MaxPooling2D(pool_size=(2, 2)),\n",
        "    Flatten(),\n",
        "    Dense(120, activation='relu'),\n",
        "    Dense(84, activation='relu'),\n",
        "    Dense(num_classes, activation='softmax')\n",
        "])"
      ],
      "metadata": {
        "id": "pbNqOwucmzUL"
      },
      "execution_count": null,
      "outputs": []
    },
    {
      "cell_type": "code",
      "source": [
        "model.compile(optimizer='adam', loss='categorical_crossentropy', metrics=['accuracy'])"
      ],
      "metadata": {
        "id": "gCrF8lu-m_M1"
      },
      "execution_count": null,
      "outputs": []
    },
    {
      "cell_type": "code",
      "source": [
        "model.summary()"
      ],
      "metadata": {
        "colab": {
          "base_uri": "https://localhost:8080/"
        },
        "id": "nWdbfrDBnCOb",
        "outputId": "9594e91a-0fed-41d8-9364-2b2a6bb3005b"
      },
      "execution_count": null,
      "outputs": [
        {
          "output_type": "stream",
          "name": "stdout",
          "text": [
            "Model: \"sequential\"\n",
            "_________________________________________________________________\n",
            " Layer (type)                Output Shape              Param #   \n",
            "=================================================================\n",
            " conv2d (Conv2D)             (None, 24, 24, 6)         156       \n",
            "                                                                 \n",
            " max_pooling2d (MaxPooling2  (None, 12, 12, 6)         0         \n",
            " D)                                                              \n",
            "                                                                 \n",
            " conv2d_1 (Conv2D)           (None, 8, 8, 16)          2416      \n",
            "                                                                 \n",
            " max_pooling2d_1 (MaxPoolin  (None, 4, 4, 16)          0         \n",
            " g2D)                                                            \n",
            "                                                                 \n",
            " flatten (Flatten)           (None, 256)               0         \n",
            "                                                                 \n",
            " dense (Dense)               (None, 120)               30840     \n",
            "                                                                 \n",
            " dense_1 (Dense)             (None, 84)                10164     \n",
            "                                                                 \n",
            " dense_2 (Dense)             (None, 4)                 340       \n",
            "                                                                 \n",
            "=================================================================\n",
            "Total params: 43916 (171.55 KB)\n",
            "Trainable params: 43916 (171.55 KB)\n",
            "Non-trainable params: 0 (0.00 Byte)\n",
            "_________________________________________________________________\n"
          ]
        }
      ]
    },
    {
      "cell_type": "markdown",
      "source": [
        "# TRAIN"
      ],
      "metadata": {
        "id": "cfjzYwKRnKog"
      }
    },
    {
      "cell_type": "code",
      "source": [
        "X_train_cnn.shape"
      ],
      "metadata": {
        "colab": {
          "base_uri": "https://localhost:8080/"
        },
        "id": "H8i3TyjdndTZ",
        "outputId": "468127ba-256c-402e-dd24-c94a3ac58ad1"
      },
      "execution_count": null,
      "outputs": [
        {
          "output_type": "execute_result",
          "data": {
            "text/plain": [
              "(335312, 28, 28, 1)"
            ]
          },
          "metadata": {},
          "execution_count": 19
        }
      ]
    },
    {
      "cell_type": "code",
      "source": [
        "y_train_cnn.shape"
      ],
      "metadata": {
        "colab": {
          "base_uri": "https://localhost:8080/"
        },
        "id": "HPZ4obcnnfG1",
        "outputId": "80e22def-5e92-4d7a-9760-360a08ed29b5"
      },
      "execution_count": null,
      "outputs": [
        {
          "output_type": "execute_result",
          "data": {
            "text/plain": [
              "(335312, 4)"
            ]
          },
          "metadata": {},
          "execution_count": 20
        }
      ]
    },
    {
      "cell_type": "code",
      "source": [
        "model.fit(X_train_cnn, y_train_cnn, epochs=10, batch_size=128, validation_data=(X_val_cnn, y_val_cnn))"
      ],
      "metadata": {
        "colab": {
          "base_uri": "https://localhost:8080/"
        },
        "id": "6ipKNKfknMix",
        "outputId": "7579a495-7df7-4e46-f2de-6d2b20329ddf"
      },
      "execution_count": null,
      "outputs": [
        {
          "output_type": "stream",
          "name": "stdout",
          "text": [
            "Epoch 1/10\n",
            "2620/2620 [==============================] - 146s 55ms/step - loss: 0.2567 - accuracy: 0.9363 - val_loss: 0.1326 - val_accuracy: 0.9568\n",
            "Epoch 2/10\n",
            "2620/2620 [==============================] - 142s 54ms/step - loss: 0.1106 - accuracy: 0.9629 - val_loss: 0.1056 - val_accuracy: 0.9662\n",
            "Epoch 3/10\n",
            "2620/2620 [==============================] - 136s 52ms/step - loss: 0.0930 - accuracy: 0.9686 - val_loss: 0.0854 - val_accuracy: 0.9707\n",
            "Epoch 4/10\n",
            "2620/2620 [==============================] - 142s 54ms/step - loss: 0.0822 - accuracy: 0.9719 - val_loss: 0.0815 - val_accuracy: 0.9725\n",
            "Epoch 5/10\n",
            "2620/2620 [==============================] - 146s 56ms/step - loss: 0.0746 - accuracy: 0.9743 - val_loss: 0.0747 - val_accuracy: 0.9748\n",
            "Epoch 6/10\n",
            "2620/2620 [==============================] - 135s 51ms/step - loss: 0.0698 - accuracy: 0.9758 - val_loss: 0.0761 - val_accuracy: 0.9742\n",
            "Epoch 7/10\n",
            "2620/2620 [==============================] - 131s 50ms/step - loss: 0.0663 - accuracy: 0.9771 - val_loss: 0.0753 - val_accuracy: 0.9756\n",
            "Epoch 8/10\n",
            "2620/2620 [==============================] - 136s 52ms/step - loss: 0.0626 - accuracy: 0.9784 - val_loss: 0.0722 - val_accuracy: 0.9762\n",
            "Epoch 9/10\n",
            "2620/2620 [==============================] - 147s 56ms/step - loss: 0.0601 - accuracy: 0.9790 - val_loss: 0.0711 - val_accuracy: 0.9764\n",
            "Epoch 10/10\n",
            "2620/2620 [==============================] - 146s 56ms/step - loss: 0.0576 - accuracy: 0.9798 - val_loss: 0.0854 - val_accuracy: 0.9729\n"
          ]
        },
        {
          "output_type": "execute_result",
          "data": {
            "text/plain": [
              "<keras.src.callbacks.History at 0x7a3c38539510>"
            ]
          },
          "metadata": {},
          "execution_count": 21
        }
      ]
    },
    {
      "cell_type": "code",
      "source": [
        "test_loss, test_accuracy = model.evaluate(X_test_cnn, y_test_cnn, verbose=0)\n",
        "\n",
        "print('test set:')\n",
        "print('loss:', test_loss)\n",
        "print('accuraccy:', test_accuracy)"
      ],
      "metadata": {
        "colab": {
          "base_uri": "https://localhost:8080/"
        },
        "id": "vNUETpI7rALh",
        "outputId": "6885a820-5e8b-4397-9a9d-24be3fe3b3fa"
      },
      "execution_count": null,
      "outputs": [
        {
          "output_type": "stream",
          "name": "stdout",
          "text": [
            "test set:\n",
            "loss: 0.08655084669589996\n",
            "accuraccy: 0.9725440144538879\n"
          ]
        }
      ]
    },
    {
      "cell_type": "code",
      "source": [
        "import shutil\n",
        "\n",
        "model_save_path = '/content/drive/MyDrive/Hand Drawn Pictures/QuickDraw Dataset numpy files/model'\n",
        "model.save('my_model.h5')\n",
        "shutil.move('my_model.h5', model_save_path)"
      ],
      "metadata": {
        "colab": {
          "base_uri": "https://localhost:8080/",
          "height": 35
        },
        "id": "KdrwBeinMrcG",
        "outputId": "e90e1a3c-a30f-436e-d002-15ee9ecbcf0a"
      },
      "execution_count": null,
      "outputs": [
        {
          "output_type": "execute_result",
          "data": {
            "text/plain": [
              "'/content/drive/MyDrive/Hand Drawn Pictures/QuickDraw Dataset numpy files/model/my_model.h5'"
            ],
            "application/vnd.google.colaboratory.intrinsic+json": {
              "type": "string"
            }
          },
          "metadata": {},
          "execution_count": 24
        }
      ]
    },
    {
      "cell_type": "markdown",
      "source": [
        "# TEST: UPLOADED IMAGES"
      ],
      "metadata": {
        "id": "jE9EQrIxvl8U"
      }
    },
    {
      "cell_type": "code",
      "source": [
        "image = cv.imread('/content/my_test_2.jpg')\n",
        "\n",
        "gray_image = cv.cvtColor(image, cv.COLOR_BGR2GRAY)\n",
        "\n",
        "resized_image = cv.resize(gray_image, (image_width, image_height))\n",
        "\n",
        "reshaped_image = resized_image.reshape(1, image_width, image_height, 1)\n",
        "\n",
        "normalized_image = reshaped_image / 255.0\n",
        "\n",
        "y_pred = model.predict(normalized_image)\n",
        "\n",
        "print(y_pred)"
      ],
      "metadata": {
        "colab": {
          "base_uri": "https://localhost:8080/"
        },
        "id": "XPgIfVSFuQd3",
        "outputId": "87c1356d-4652-4c0e-8cf6-09130ebc8182"
      },
      "execution_count": null,
      "outputs": [
        {
          "output_type": "stream",
          "name": "stdout",
          "text": [
            "1/1 [==============================] - 0s 122ms/step\n",
            "[[0.01873559 0.01044729 0.00729643 0.9635207 ]]\n"
          ]
        }
      ]
    },
    {
      "cell_type": "code",
      "source": [
        "predicted_class = np.argmax(y_pred)\n",
        "\n",
        "pred = label_dict.get(predicted_class)\n",
        "\n",
        "print('Prediction:', pred)"
      ],
      "metadata": {
        "colab": {
          "base_uri": "https://localhost:8080/"
        },
        "id": "CLMJO9mXuZOv",
        "outputId": "fa3ce485-02ff-49f3-953b-4a44219e8813"
      },
      "execution_count": null,
      "outputs": [
        {
          "output_type": "stream",
          "name": "stdout",
          "text": [
            "Prediction: ice cream\n"
          ]
        }
      ]
    },
    {
      "cell_type": "markdown",
      "source": [
        "# TEST: DRAWING ONLINE"
      ],
      "metadata": {
        "id": "xArk2qRSARm1"
      }
    },
    {
      "cell_type": "code",
      "source": [
        "from google.colab import output\n",
        "from base64 import b64decode\n",
        "import os\n",
        "import shutil\n",
        "import uuid\n",
        "from IPython.display import HTML\n",
        "COLAB_HTML_ROOT = \"/usr/local/share/jupyter/nbextensions/google.colab/\"\n",
        "\n",
        "def moveToExt(filename:str) -> str:\n",
        "  if not os.path.exists(filename):\n",
        "    print(\"Image file not found\")\n",
        "    return None\n",
        "\n",
        "  target = os.path.basename(filename)\n",
        "  target = os.path.join(COLAB_HTML_ROOT, str(uuid.uuid4()) + target)\n",
        "\n",
        "  shutil.copyfile(filename,target)\n",
        "  print(\"moved to ext\")\n",
        "  return target\n",
        "\n",
        "\n",
        "def draw(filename='drawing.png', color=\"black\", bg_color=\"transparent\",w=512, h=512, line_width=10,loop=False):\n",
        "  real_filename = os.path.realpath(filename)\n",
        "  html_filename = real_filename\n",
        "  html_real_filename = html_filename\n",
        "  if os.path.exists(real_filename):\n",
        "    html_real_filename = moveToExt(real_filename)\n",
        "    html_filename = html_real_filename.replace(\"/usr/local/share/jupyter\",\"\")\n",
        "\n",
        "\n",
        "  canvas_html = f\"\"\"\n",
        "  <canvas width={w} height={h}></canvas>\n",
        "  <div>\n",
        "    <label for=\"strokeColor\">Stroke</label>\n",
        "    <input type=\"color\" value=\"{color}\" id=\"strokeColor\">\n",
        "\n",
        "    <label for=\"bgColor\">Background</label>\n",
        "    <input type=\"color\" value=\"{bg_color}\" id=\"bgColor\">\n",
        "  </div>\n",
        "  <div class=\"slidecontainer\">\n",
        "  <label for=\"lineWidth\" id=\"lineWidthLabel\">{line_width}px</label>\n",
        "    <input type=\"range\" min=\"1\" max=\"35\" value=\"1\" class=\"slider\" id=\"lineWidth\">\n",
        "  </div>\n",
        "  <div>\n",
        "    <button id=\"loadImage\">Reload from disk</button>\n",
        "    <button id=\"reset\">Reset</button>\n",
        "    <button id=\"save\">Save</button>\n",
        "    <button id=\"exit\">Exit</button>\n",
        "  </div>\n",
        "  <script>\n",
        "   function loadImage(url) {{\n",
        "  return new Promise(r => {{ let i = new Image(); i.onload = (() => r(i)); i.src = url; }});\n",
        "}}\n",
        "\n",
        "\n",
        "    var canvas = document.querySelector('canvas')\n",
        "    var ctx = canvas.getContext('2d')\n",
        "    ctx.lineWidth = {line_width}\n",
        "    ctx.fillStyle = \"{bg_color}\";\n",
        "\n",
        "    ctx.fillRect(0, 0, canvas.width, canvas.height);\n",
        "    ctx.strokeStyle = \"{color}\";\n",
        "    var strokeColor = document.querySelector('#strokeColor')\n",
        "    var bgColor = document.querySelector('#bgColor')\n",
        "    var slider = document.getElementById(\"lineWidth\");\n",
        "    slider.oninput = function() {{\n",
        "      ctx.lineWidth = this.value;\n",
        "      lineWidthLabel.innerHTML = `${{this.value}}px`\n",
        "    }}\n",
        "    function updateStroke(event){{\n",
        "        ctx.strokeStyle = event.target.value\n",
        "    }}\n",
        "    function updateBG(event){{\n",
        "        ctx.fillStyle = event.target.value\n",
        "    }}\n",
        "\n",
        "    bgColor.addEventListener(\"change\", updateBG, false);\n",
        "    strokeColor.addEventListener(\"change\", updateStroke, false);\n",
        "\n",
        "    var clear_button = document.querySelector('#reset')\n",
        "    var reload_img_button = document.querySelector('#loadImage')\n",
        "    var button = document.querySelector('#save')\n",
        "    var exit_button = document.querySelector('#exit')\n",
        "    var mouse = {{x: 0, y: 0}}\n",
        "    canvas.addEventListener('mousemove', function(e) {{\n",
        "      mouse.x = e.pageX - this.offsetLeft\n",
        "      mouse.y = e.pageY - this.offsetTop\n",
        "    }})\n",
        "    canvas.onmousedown = ()=>{{\n",
        "      ctx.beginPath()\n",
        "      ctx.moveTo(mouse.x, mouse.y)\n",
        "      canvas.addEventListener('mousemove', onPaint)\n",
        "    }}\n",
        "    canvas.onmouseup = ()=>{{\n",
        "      canvas.removeEventListener('mousemove', onPaint)\n",
        "    }}\n",
        "    var onPaint = ()=>{{\n",
        "      ctx.lineTo(mouse.x, mouse.y)\n",
        "      ctx.stroke()\n",
        "    }}\n",
        "    reload_img_button.onclick = async ()=>{{\n",
        "      console.log(\"Reloading Image {html_filename}\")\n",
        "      let img = await loadImage('{html_filename}');\n",
        "      console.log(\"Loaded image\")\n",
        "      ctx.drawImage(img, 0, 0);\n",
        "    }}\n",
        "\n",
        "    clear_button.onclick = ()=>{{\n",
        "        console.log('Clearing Screen')\n",
        "        ctx.clearRect(0, 0, canvas.width, canvas.height);\n",
        "        ctx.fillRect(0, 0, canvas.width, canvas.height);\n",
        "      }}\n",
        "      canvas.addEventListener('load', function() {{\n",
        "      console.log('All assets are loaded')\n",
        "    }})\n",
        "    var data = new Promise(resolve=>{{\n",
        "      button.onclick = ()=>{{\n",
        "        resolve(canvas.toDataURL('image/png'))\n",
        "      }}\n",
        "      exit_button.onclick = ()=>{{\n",
        "      resolve()\n",
        "    }}\n",
        "\n",
        "    }})\n",
        "\n",
        "    // window.onload = async ()=>{{\n",
        "    //   console.log(\"loaded\")\n",
        "    //   let img = await loadImage('{html_filename}');\n",
        "    //   ctx.drawImage(img, 0, 0);\n",
        "    // }}\n",
        "\n",
        "\n",
        "  </script>\n",
        "  \"\"\"\n",
        "\n",
        "  display(HTML(canvas_html))\n",
        "  print(\"Evaluating JS\")\n",
        "\n",
        "  data = output.eval_js(\"data\")\n",
        "  if data:\n",
        "    print(\"Saving Sketch\")\n",
        "    binary = b64decode(data.split(',')[1])\n",
        "    with open(filename, 'wb') as f:\n",
        "      f.write(binary)\n",
        "    print('Saved!')"
      ],
      "metadata": {
        "id": "rlbcSlEgAUax"
      },
      "execution_count": null,
      "outputs": []
    },
    {
      "cell_type": "code",
      "source": [
        "saved_model = load_model(model_save_path + '/my_model.h5')"
      ],
      "metadata": {
        "id": "WeguNDwdPX5C"
      },
      "execution_count": null,
      "outputs": []
    },
    {
      "cell_type": "code",
      "source": [
        "draw(color='white', bg_color=\"black\")"
      ],
      "metadata": {
        "colab": {
          "base_uri": "https://localhost:8080/"
        },
        "id": "LZolxxwhGtzp",
        "outputId": "e75a2c1d-713d-46d8-a4db-3279f1f49f06"
      },
      "execution_count": null,
      "outputs": [
        {
          "output_type": "stream",
          "name": "stdout",
          "text": [
            "moved to ext\n"
          ]
        },
        {
          "output_type": "display_data",
          "data": {
            "text/plain": [
              "<IPython.core.display.HTML object>"
            ],
            "text/html": [
              "\n",
              "  <canvas width=512 height=512></canvas>\n",
              "  <div>\n",
              "    <label for=\"strokeColor\">Stroke</label>\n",
              "    <input type=\"color\" value=\"white\" id=\"strokeColor\">\n",
              "\n",
              "    <label for=\"bgColor\">Background</label>\n",
              "    <input type=\"color\" value=\"black\" id=\"bgColor\">\n",
              "  </div>\n",
              "  <div class=\"slidecontainer\">\n",
              "  <label for=\"lineWidth\" id=\"lineWidthLabel\">10px</label>\n",
              "    <input type=\"range\" min=\"1\" max=\"35\" value=\"1\" class=\"slider\" id=\"lineWidth\">\n",
              "  </div>\n",
              "  <div>\n",
              "    <button id=\"loadImage\">Reload from disk</button>\n",
              "    <button id=\"reset\">Reset</button>\n",
              "    <button id=\"save\">Save</button>\n",
              "    <button id=\"exit\">Exit</button>\n",
              "  </div>\n",
              "  <script>\n",
              "   function loadImage(url) {\n",
              "  return new Promise(r => { let i = new Image(); i.onload = (() => r(i)); i.src = url; });\n",
              "}\n",
              "\n",
              "\n",
              "    var canvas = document.querySelector('canvas')\n",
              "    var ctx = canvas.getContext('2d')\n",
              "    ctx.lineWidth = 10\n",
              "    ctx.fillStyle = \"black\";\n",
              "\n",
              "    ctx.fillRect(0, 0, canvas.width, canvas.height);\n",
              "    ctx.strokeStyle = \"white\";\n",
              "    var strokeColor = document.querySelector('#strokeColor')\n",
              "    var bgColor = document.querySelector('#bgColor')\n",
              "    var slider = document.getElementById(\"lineWidth\");\n",
              "    slider.oninput = function() {\n",
              "      ctx.lineWidth = this.value;\n",
              "      lineWidthLabel.innerHTML = `${this.value}px`\n",
              "    }\n",
              "    function updateStroke(event){\n",
              "        ctx.strokeStyle = event.target.value\n",
              "    }\n",
              "    function updateBG(event){\n",
              "        ctx.fillStyle = event.target.value\n",
              "    }\n",
              "\n",
              "    bgColor.addEventListener(\"change\", updateBG, false);\n",
              "    strokeColor.addEventListener(\"change\", updateStroke, false);\n",
              "\n",
              "    var clear_button = document.querySelector('#reset')\n",
              "    var reload_img_button = document.querySelector('#loadImage')\n",
              "    var button = document.querySelector('#save')\n",
              "    var exit_button = document.querySelector('#exit')\n",
              "    var mouse = {x: 0, y: 0}\n",
              "    canvas.addEventListener('mousemove', function(e) {\n",
              "      mouse.x = e.pageX - this.offsetLeft\n",
              "      mouse.y = e.pageY - this.offsetTop\n",
              "    })\n",
              "    canvas.onmousedown = ()=>{\n",
              "      ctx.beginPath()\n",
              "      ctx.moveTo(mouse.x, mouse.y)\n",
              "      canvas.addEventListener('mousemove', onPaint)\n",
              "    }\n",
              "    canvas.onmouseup = ()=>{\n",
              "      canvas.removeEventListener('mousemove', onPaint)\n",
              "    }\n",
              "    var onPaint = ()=>{\n",
              "      ctx.lineTo(mouse.x, mouse.y)\n",
              "      ctx.stroke()\n",
              "    }\n",
              "    reload_img_button.onclick = async ()=>{\n",
              "      console.log(\"Reloading Image /nbextensions/google.colab/8d783658-30fe-40eb-a2b0-030678aaacabdrawing.png\")\n",
              "      let img = await loadImage('/nbextensions/google.colab/8d783658-30fe-40eb-a2b0-030678aaacabdrawing.png');\n",
              "      console.log(\"Loaded image\")\n",
              "      ctx.drawImage(img, 0, 0);\n",
              "    }\n",
              "\n",
              "    clear_button.onclick = ()=>{\n",
              "        console.log('Clearing Screen')\n",
              "        ctx.clearRect(0, 0, canvas.width, canvas.height);\n",
              "        ctx.fillRect(0, 0, canvas.width, canvas.height);\n",
              "      }\n",
              "      canvas.addEventListener('load', function() {\n",
              "      console.log('All assets are loaded')\n",
              "    })\n",
              "    var data = new Promise(resolve=>{\n",
              "      button.onclick = ()=>{\n",
              "        resolve(canvas.toDataURL('image/png'))\n",
              "      }\n",
              "      exit_button.onclick = ()=>{\n",
              "      resolve()\n",
              "    }\n",
              "\n",
              "    })\n",
              "\n",
              "    // window.onload = async ()=>{\n",
              "    //   console.log(\"loaded\")\n",
              "    //   let img = await loadImage('/nbextensions/google.colab/8d783658-30fe-40eb-a2b0-030678aaacabdrawing.png');\n",
              "    //   ctx.drawImage(img, 0, 0);\n",
              "    // }\n",
              "\n",
              "\n",
              "  </script>\n",
              "  "
            ]
          },
          "metadata": {}
        },
        {
          "output_type": "stream",
          "name": "stdout",
          "text": [
            "Evaluating JS\n",
            "Saving Sketch\n",
            "Saved!\n"
          ]
        }
      ]
    },
    {
      "cell_type": "code",
      "source": [
        "image = cv.imread('drawing.png')\n",
        "\n",
        "gray_image = cv.cvtColor(image, cv.COLOR_BGR2GRAY)\n",
        "\n",
        "resized_image = cv.resize(gray_image, (image_width, image_height))\n",
        "\n",
        "reshaped_image = resized_image.reshape(1, image_width, image_height, 1)\n",
        "\n",
        "normalized_image = reshaped_image / 255.0\n",
        "\n",
        "y_pred = saved_model.predict(normalized_image)\n",
        "\n",
        "print(y_pred)\n",
        "\n",
        "predicted_class = np.argmax(y_pred)\n",
        "\n",
        "pred = label_dict.get(predicted_class)\n",
        "\n",
        "print('Prediction:', pred)"
      ],
      "metadata": {
        "colab": {
          "base_uri": "https://localhost:8080/"
        },
        "id": "2xqlxhUCJGhd",
        "outputId": "8c0098a2-dbbd-43d6-85e2-d8d91ccc8b4f"
      },
      "execution_count": null,
      "outputs": [
        {
          "output_type": "stream",
          "name": "stdout",
          "text": [
            "1/1 [==============================] - 0s 22ms/step\n",
            "[[0.21478656 0.1997171  0.2906541  0.29484224]]\n",
            "Prediction: ice cream\n"
          ]
        }
      ]
    }
  ]
}